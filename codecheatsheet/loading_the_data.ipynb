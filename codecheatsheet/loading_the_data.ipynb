{
 "cells": [
  {
   "cell_type": "code",
   "execution_count": 1,
   "metadata": {
    "collapsed": true
   },
   "outputs": [],
   "source": [
    "import numpy as np"
   ]
  },
  {
   "cell_type": "code",
   "execution_count": 2,
   "metadata": {},
   "outputs": [],
   "source": [
    "X = np.random.random((10, 5))\n"
   ]
  },
  {
   "cell_type": "code",
   "execution_count": 4,
   "metadata": {},
   "outputs": [
    {
     "data": {
      "text/plain": [
       "array([[ 0.2252821 ,  0.3638049 ,  0.06619186,  0.95408991,  0.22970118],\n       [ 0.94477381,  0.43540693,  0.91089226,  0.19050933,  0.69326745],\n       [ 0.09142932,  0.69964339,  0.02300082,  0.77267333,  0.37788123],\n       [ 0.36105252,  0.1237088 ,  0.94200655,  0.78833444,  0.93423079],\n       [ 0.49427519,  0.81557762,  0.12820617,  0.92232488,  0.76290773],\n       [ 0.73444752,  0.62658571,  0.98813105,  0.65249697,  0.43119405],\n       [ 0.36733005,  0.2775617 ,  0.64315253,  0.71605458,  0.53580708],\n       [ 0.98975822,  0.20892899,  0.90251682,  0.10058589,  0.40502409],\n       [ 0.26831786,  0.87759881,  0.63676486,  0.17645541,  0.19717666],\n       [ 0.06920767,  0.76123894,  0.80625768,  0.47282627,  0.08931746]])"
      ]
     },
     "execution_count": 4,
     "metadata": {},
     "output_type": "execute_result"
    }
   ],
   "source": [
    "X"
   ]
  },
  {
   "cell_type": "code",
   "execution_count": 6,
   "metadata": {},
   "outputs": [],
   "source": [
    "y = np.array(['M', 'M', 'F', 'F', 'M', 'F', 'M', 'M', 'F', 'F', 'F'])\n"
   ]
  },
  {
   "cell_type": "code",
   "execution_count": 7,
   "metadata": {},
   "outputs": [
    {
     "data": {
      "text/plain": [
       "array(['M', 'M', 'F', 'F', 'M', 'F', 'M', 'M', 'F', 'F', 'F'],\n      dtype='<U1')"
      ]
     },
     "execution_count": 7,
     "metadata": {},
     "output_type": "execute_result"
    }
   ],
   "source": [
    "y"
   ]
  },
  {
   "cell_type": "code",
   "execution_count": 8,
   "metadata": {},
   "outputs": [],
   "source": [
    "X[X < 0.7] = 0"
   ]
  },
  {
   "cell_type": "code",
   "execution_count": 9,
   "metadata": {},
   "outputs": [
    {
     "data": {
      "text/plain": [
       "array([[ 0.        ,  0.        ,  0.        ,  0.95408991,  0.        ],\n       [ 0.94477381,  0.        ,  0.91089226,  0.        ,  0.        ],\n       [ 0.        ,  0.        ,  0.        ,  0.77267333,  0.        ],\n       [ 0.        ,  0.        ,  0.94200655,  0.78833444,  0.93423079],\n       [ 0.        ,  0.81557762,  0.        ,  0.92232488,  0.76290773],\n       [ 0.73444752,  0.        ,  0.98813105,  0.        ,  0.        ],\n       [ 0.        ,  0.        ,  0.        ,  0.71605458,  0.        ],\n       [ 0.98975822,  0.        ,  0.90251682,  0.        ,  0.        ],\n       [ 0.        ,  0.87759881,  0.        ,  0.        ,  0.        ],\n       [ 0.        ,  0.76123894,  0.80625768,  0.        ,  0.        ]])"
      ]
     },
     "execution_count": 9,
     "metadata": {},
     "output_type": "execute_result"
    }
   ],
   "source": [
    "X"
   ]
  },
  {
   "cell_type": "code",
   "execution_count": null,
   "metadata": {},
   "outputs": [],
   "source": []
  }
 ],
 "metadata": {
  "kernelspec": {
   "display_name": "Python 2",
   "language": "python",
   "name": "python2"
  },
  "language_info": {
   "codemirror_mode": {
    "name": "ipython",
    "version": 2
   },
   "file_extension": ".py",
   "mimetype": "text/x-python",
   "name": "python",
   "nbconvert_exporter": "python",
   "pygments_lexer": "ipython2",
   "version": "2.7.6"
  }
 },
 "nbformat": 4,
 "nbformat_minor": 0
}
